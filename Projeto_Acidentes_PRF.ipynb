{
 "cells": [
  {
   "cell_type": "markdown",
   "metadata": {
    "id": "R6bYzCqjEnsd"
   },
   "source": [
    "<div class=\"alert alert-block alert-info\">\n",
    "<center>ESTATÍSTICA APLICADA</center>\n",
    "<center>Projeto I</center>\n",
    "<center>ALUNO: Nicolas Lohan Araújo Souza</center>\n",
    "</div>"
   ]
  },
  {
   "cell_type": "markdown",
   "metadata": {
    "id": "_0G-l7SeFYtT"
   },
   "source": [
    "#### **1º Tarefa**\n",
    "\n",
    "<div>Carregue em dataframes os conjuntos de dados referentes ao ano de 2018, 2019, 2020 e 2021,\n",
    "acessando os arquivos compactados diretamente do site, sem precisar baixá-los. Corrija quaisquer\n",
    "erros que apareçam no carregamento dos arquivos.</div>"
   ]
  },
  {
   "cell_type": "code",
   "execution_count": 1,
   "metadata": {
    "id": "dvt178-qF8SL"
   },
   "outputs": [],
   "source": [
    "import numpy as np\n",
    "import pandas as pd\n",
    "import matplotlib as plt\n",
    "\n",
    "prf_2018 = pd.read_csv('https://arquivos.prf.gov.br/arquivos/index.php/s/MaC6cieXSFACNWT/download', compression='zip', encoding='latin1', sep=';')\n",
    "prf_2019 = pd.read_csv('https://arquivos.prf.gov.br/arquivos/index.php/s/kRBUylqz6DyQznN/download', compression='zip', encoding='latin1', sep=';')\n",
    "prf_2020 = pd.read_csv('https://arquivos.prf.gov.br/arquivos/index.php/s/jdDLrQIf33xXSCe/download', compression='zip', encoding='latin1', sep=';')\n",
    "prf_2021 = pd.read_csv('https://arquivos.prf.gov.br/arquivos/index.php/s/n1T3lymvIdDOzzb/download', compression='zip', encoding='latin1', sep=';')"
   ]
  },
  {
   "cell_type": "markdown",
   "metadata": {
    "id": "oPPdlWNDHsYh"
   },
   "source": [
    "<div><font color='green'>Análise de dados e merge dos DataFrames</font></div>\n",
    "\n",
    "- <div><font color='green'>A partir da utilização da operação de comparação entre os tipos de dados das colunas de cada DataFrame, nota-se que o DataFrame referente aos dados de 2021 possui dados de tipo diferente dos demais nas colunas 'latitude e longitude'. Com isso, fiz a utilização da função \"astype\" para corrigir a divergência.</font></div>"
   ]
  },
  {
   "cell_type": "code",
   "execution_count": 2,
   "metadata": {
    "id": "_T71cAJ7KkOx"
   },
   "outputs": [
    {
     "data": {
      "text/plain": [
       "id                         True\n",
       "data_inversa               True\n",
       "dia_semana                 True\n",
       "horario                    True\n",
       "uf                         True\n",
       "br                         True\n",
       "km                         True\n",
       "municipio                  True\n",
       "causa_acidente             True\n",
       "tipo_acidente              True\n",
       "classificacao_acidente     True\n",
       "fase_dia                   True\n",
       "sentido_via                True\n",
       "condicao_metereologica     True\n",
       "tipo_pista                 True\n",
       "tracado_via                True\n",
       "uso_solo                   True\n",
       "pessoas                    True\n",
       "mortos                     True\n",
       "feridos_leves              True\n",
       "feridos_graves             True\n",
       "ilesos                     True\n",
       "ignorados                  True\n",
       "feridos                    True\n",
       "veiculos                   True\n",
       "latitude                  False\n",
       "longitude                 False\n",
       "regional                   True\n",
       "delegacia                  True\n",
       "uop                        True\n",
       "dtype: bool"
      ]
     },
     "execution_count": 2,
     "metadata": {},
     "output_type": "execute_result"
    }
   ],
   "source": [
    "prf_2021.dtypes == prf_2020.dtypes"
   ]
  },
  {
   "cell_type": "code",
   "execution_count": 3,
   "metadata": {
    "id": "iYgol8EwKqJo"
   },
   "outputs": [
    {
     "data": {
      "text/plain": [
       "id                        True\n",
       "data_inversa              True\n",
       "dia_semana                True\n",
       "horario                   True\n",
       "uf                        True\n",
       "br                        True\n",
       "km                        True\n",
       "municipio                 True\n",
       "causa_acidente            True\n",
       "tipo_acidente             True\n",
       "classificacao_acidente    True\n",
       "fase_dia                  True\n",
       "sentido_via               True\n",
       "condicao_metereologica    True\n",
       "tipo_pista                True\n",
       "tracado_via               True\n",
       "uso_solo                  True\n",
       "pessoas                   True\n",
       "mortos                    True\n",
       "feridos_leves             True\n",
       "feridos_graves            True\n",
       "ilesos                    True\n",
       "ignorados                 True\n",
       "feridos                   True\n",
       "veiculos                  True\n",
       "latitude                  True\n",
       "longitude                 True\n",
       "regional                  True\n",
       "delegacia                 True\n",
       "uop                       True\n",
       "dtype: bool"
      ]
     },
     "execution_count": 3,
     "metadata": {},
     "output_type": "execute_result"
    }
   ],
   "source": [
    "prf_2019.dtypes == prf_2018.dtypes"
   ]
  },
  {
   "cell_type": "code",
   "execution_count": 4,
   "metadata": {
    "id": "UdWbFvVRKmcB"
   },
   "outputs": [
    {
     "data": {
      "text/plain": [
       "id                        True\n",
       "data_inversa              True\n",
       "dia_semana                True\n",
       "horario                   True\n",
       "uf                        True\n",
       "br                        True\n",
       "km                        True\n",
       "municipio                 True\n",
       "causa_acidente            True\n",
       "tipo_acidente             True\n",
       "classificacao_acidente    True\n",
       "fase_dia                  True\n",
       "sentido_via               True\n",
       "condicao_metereologica    True\n",
       "tipo_pista                True\n",
       "tracado_via               True\n",
       "uso_solo                  True\n",
       "pessoas                   True\n",
       "mortos                    True\n",
       "feridos_leves             True\n",
       "feridos_graves            True\n",
       "ilesos                    True\n",
       "ignorados                 True\n",
       "feridos                   True\n",
       "veiculos                  True\n",
       "latitude                  True\n",
       "longitude                 True\n",
       "regional                  True\n",
       "delegacia                 True\n",
       "uop                       True\n",
       "dtype: bool"
      ]
     },
     "execution_count": 4,
     "metadata": {},
     "output_type": "execute_result"
    }
   ],
   "source": [
    "prf_2019.dtypes == prf_2020.dtypes"
   ]
  },
  {
   "cell_type": "markdown",
   "metadata": {
    "id": "5YHQPRaOK34E"
   },
   "source": [
    "  - <div><font color='green'>Então, fiz a utilização da função \"astype\" para corrigir a divergência.</font></div>"
   ]
  },
  {
   "cell_type": "code",
   "execution_count": 5,
   "metadata": {
    "id": "T9sES23kLKjp"
   },
   "outputs": [
    {
     "data": {
      "text/plain": [
       "id                        True\n",
       "data_inversa              True\n",
       "dia_semana                True\n",
       "horario                   True\n",
       "uf                        True\n",
       "br                        True\n",
       "km                        True\n",
       "municipio                 True\n",
       "causa_acidente            True\n",
       "tipo_acidente             True\n",
       "classificacao_acidente    True\n",
       "fase_dia                  True\n",
       "sentido_via               True\n",
       "condicao_metereologica    True\n",
       "tipo_pista                True\n",
       "tracado_via               True\n",
       "uso_solo                  True\n",
       "pessoas                   True\n",
       "mortos                    True\n",
       "feridos_leves             True\n",
       "feridos_graves            True\n",
       "ilesos                    True\n",
       "ignorados                 True\n",
       "feridos                   True\n",
       "veiculos                  True\n",
       "latitude                  True\n",
       "longitude                 True\n",
       "regional                  True\n",
       "delegacia                 True\n",
       "uop                       True\n",
       "dtype: bool"
      ]
     },
     "execution_count": 5,
     "metadata": {},
     "output_type": "execute_result"
    }
   ],
   "source": [
    "prf_2021['latitude'] = prf_2021['latitude'].astype(str)\n",
    "prf_2021['longitude'] = prf_2021['longitude'].astype(str)\n",
    "\n",
    "prf_2021.dtypes == prf_2020.dtypes"
   ]
  },
  {
   "cell_type": "markdown",
   "metadata": {
    "id": "sgebnW1pLgDh"
   },
   "source": [
    "  - <div><font color='green'>Depois disso, realizei o merge dos DataFrames.</font></div>"
   ]
  },
  {
   "cell_type": "code",
   "execution_count": 6,
   "metadata": {
    "id": "f4fvcwk3LnqR"
   },
   "outputs": [],
   "source": [
    "acidentes = pd.merge(prf_2018.merge(prf_2019, how=\"outer\"), prf_2020.merge(prf_2021, how=\"outer\"), how=\"outer\")"
   ]
  },
  {
   "cell_type": "markdown",
   "metadata": {
    "id": "hV5zWaYXGCtY"
   },
   "source": [
    "#### **2º Tarefa**\n",
    "\n",
    "<div>Explore os conjuntos de dados, respondendo as questões:</br>\n",
    "(a) quantos acidentes ocorreram em cada ano?</br>\n",
    "(b) quantas variáveis cada conjunto de dados registra?</br>\n",
    "(c) quais as cinco cidades brasileiras onde mais ocorreram acidentes em rodovias federais?</br>\n",
    "(d) quantos acidentes com feridos graves aconteceram na Paraíba em 2019?</div>"
   ]
  },
  {
   "cell_type": "markdown",
   "metadata": {
    "id": "P3cdO3YZQEWf"
   },
   "source": [
    "<div><font color='green'> (a) Para fazer a contagem de quantos acidentes ocorreram em cada ano, utilizei a chamada da função \"len\" para o index de de cada filtragem de data realizada no DataFrame principal. </font></div>"
   ]
  },
  {
   "cell_type": "code",
   "execution_count": 7,
   "metadata": {
    "colab": {
     "base_uri": "https://localhost:8080/"
    },
    "id": "dbnztpRBRoj9",
    "outputId": "b1146b32-76eb-4d3f-8318-d8e9f2cae071"
   },
   "outputs": [
    {
     "name": "stdout",
     "output_type": "stream",
     "text": [
      "Ocorreram 69295 acidentes em 2018\n",
      "Ocorreram 67446 acidentes em 2019\n",
      "Ocorreram 63548 acidentes em 2020\n",
      "Ocorreram 64515 acidentes em 2021\n"
     ]
    }
   ],
   "source": [
    "anos = ['2018','2019','2020','2021']\n",
    "for n in anos:\n",
    "  index = acidentes[acidentes['data_inversa'].str.contains(n)].index\n",
    "  count = len(index)\n",
    "  print(f'Ocorreram {count} acidentes em {n}')"
   ]
  },
  {
   "cell_type": "markdown",
   "metadata": {
    "id": "ktPwu6qGbS7A"
   },
   "source": [
    "  - <div><font color='green'>Correção do formato de data para filtragem.</font></div>"
   ]
  },
  {
   "cell_type": "code",
   "execution_count": 8,
   "metadata": {
    "id": "3AwwJGVJbYCc"
   },
   "outputs": [],
   "source": [
    "acidentes['data_inversa'] = acidentes['data_inversa'].str.replace(\"-\", \"\")\n",
    "acidentes['data_inversa'] = pd.to_datetime(acidentes['data_inversa'], format='%Y%m%d')\n",
    "acidentes.rename(columns={'data_inversa':'data'}, inplace=True)"
   ]
  },
  {
   "cell_type": "markdown",
   "metadata": {
    "id": "UE9f_F9ASk0H"
   },
   "source": [
    "<div><font color='green'> (b) Para saber a quantidade de variáveis contidas em cada coluna do DataFrame gerei uma lista com o título de todas as colunas, a partir disso, utilizei o for como estrutura de repetição para contar de forma mais \"automática\" cada coluna, utilizei a função \"unique\", juntamente ao método len da lista gerada pela função \"unique\". </font></div>"
   ]
  },
  {
   "cell_type": "code",
   "execution_count": 9,
   "metadata": {
    "colab": {
     "base_uri": "https://localhost:8080/"
    },
    "id": "mChlGpgASmsw",
    "outputId": "cbe663d2-7ed0-480d-a397-f0f91535a060"
   },
   "outputs": [
    {
     "name": "stdout",
     "output_type": "stream",
     "text": [
      "Foram registradas 264804 variáveis na coluna \"id\"\n",
      "Foram registradas 1461 variáveis na coluna \"data\"\n",
      "Foram registradas 7 variáveis na coluna \"dia_semana\"\n",
      "Foram registradas 1433 variáveis na coluna \"horario\"\n",
      "Foram registradas 27 variáveis na coluna \"uf\"\n",
      "Foram registradas 127 variáveis na coluna \"br\"\n",
      "Foram registradas 9456 variáveis na coluna \"km\"\n",
      "Foram registradas 1974 variáveis na coluna \"municipio\"\n",
      "Foram registradas 86 variáveis na coluna \"causa_acidente\"\n",
      "Foram registradas 20 variáveis na coluna \"tipo_acidente\"\n",
      "Foram registradas 3 variáveis na coluna \"classificacao_acidente\"\n",
      "Foram registradas 4 variáveis na coluna \"fase_dia\"\n",
      "Foram registradas 3 variáveis na coluna \"sentido_via\"\n",
      "Foram registradas 10 variáveis na coluna \"condicao_metereologica\"\n",
      "Foram registradas 3 variáveis na coluna \"tipo_pista\"\n",
      "Foram registradas 10 variáveis na coluna \"tracado_via\"\n",
      "Foram registradas 2 variáveis na coluna \"uso_solo\"\n",
      "Foram registradas 65 variáveis na coluna \"pessoas\"\n",
      "Foram registradas 13 variáveis na coluna \"mortos\"\n",
      "Foram registradas 43 variáveis na coluna \"feridos_leves\"\n",
      "Foram registradas 24 variáveis na coluna \"feridos_graves\"\n",
      "Foram registradas 58 variáveis na coluna \"ilesos\"\n",
      "Foram registradas 16 variáveis na coluna \"ignorados\"\n",
      "Foram registradas 47 variáveis na coluna \"feridos\"\n",
      "Foram registradas 16 variáveis na coluna \"veiculos\"\n",
      "Foram registradas 150765 variáveis na coluna \"latitude\"\n",
      "Foram registradas 151533 variáveis na coluna \"longitude\"\n",
      "Foram registradas 28 variáveis na coluna \"regional\"\n",
      "Foram registradas 224 variáveis na coluna \"delegacia\"\n",
      "Foram registradas 143 variáveis na coluna \"uop\"\n"
     ]
    }
   ],
   "source": [
    "colunas = acidentes.columns\n",
    "for i in colunas:\n",
    "  count = len(acidentes[i].unique())\n",
    "  print(f'Foram registradas {count} variáveis na coluna \"{i}\"')"
   ]
  },
  {
   "cell_type": "markdown",
   "metadata": {
    "id": "cQI6b7HlLqHx"
   },
   "source": [
    " <div><font color='green'>(c) Para responder a questão seria necessária uma filtragem contando todos os acidentes que ocorreram em cada municipio, para isso utilizei as funções \"groupby\" e \"agg\".</font></div>"
   ]
  },
  {
   "cell_type": "code",
   "execution_count": 10,
   "metadata": {
    "colab": {
     "base_uri": "https://localhost:8080/",
     "height": 455
    },
    "id": "JMYqfLvRNAxm",
    "outputId": "deb5e3e2-391c-4c5e-a1dc-ea0a7b77279d"
   },
   "outputs": [
    {
     "data": {
      "text/html": [
       "<div>\n",
       "<style scoped>\n",
       "    .dataframe tbody tr th:only-of-type {\n",
       "        vertical-align: middle;\n",
       "    }\n",
       "\n",
       "    .dataframe tbody tr th {\n",
       "        vertical-align: top;\n",
       "    }\n",
       "\n",
       "    .dataframe thead th {\n",
       "        text-align: right;\n",
       "    }\n",
       "</style>\n",
       "<table border=\"1\" class=\"dataframe\">\n",
       "  <thead>\n",
       "    <tr style=\"text-align: right;\">\n",
       "      <th></th>\n",
       "      <th>n_acidentes</th>\n",
       "    </tr>\n",
       "    <tr>\n",
       "      <th>municipio</th>\n",
       "      <th></th>\n",
       "    </tr>\n",
       "  </thead>\n",
       "  <tbody>\n",
       "    <tr>\n",
       "      <th>ABADIA DE GOIAS</th>\n",
       "      <td>145</td>\n",
       "    </tr>\n",
       "    <tr>\n",
       "      <th>ABADIANIA</th>\n",
       "      <td>253</td>\n",
       "    </tr>\n",
       "    <tr>\n",
       "      <th>ABARE</th>\n",
       "      <td>26</td>\n",
       "    </tr>\n",
       "    <tr>\n",
       "      <th>ABEL FIGUEIREDO</th>\n",
       "      <td>4</td>\n",
       "    </tr>\n",
       "    <tr>\n",
       "      <th>ABRE CAMPO</th>\n",
       "      <td>76</td>\n",
       "    </tr>\n",
       "    <tr>\n",
       "      <th>...</th>\n",
       "      <td>...</td>\n",
       "    </tr>\n",
       "    <tr>\n",
       "      <th>XAPURI</th>\n",
       "      <td>25</td>\n",
       "    </tr>\n",
       "    <tr>\n",
       "      <th>XAXIM</th>\n",
       "      <td>197</td>\n",
       "    </tr>\n",
       "    <tr>\n",
       "      <th>XEXEU</th>\n",
       "      <td>38</td>\n",
       "    </tr>\n",
       "    <tr>\n",
       "      <th>XINGUARA</th>\n",
       "      <td>2</td>\n",
       "    </tr>\n",
       "    <tr>\n",
       "      <th>ZE DOCA</th>\n",
       "      <td>21</td>\n",
       "    </tr>\n",
       "  </tbody>\n",
       "</table>\n",
       "<p>1974 rows × 1 columns</p>\n",
       "</div>"
      ],
      "text/plain": [
       "                 n_acidentes\n",
       "municipio                   \n",
       "ABADIA DE GOIAS          145\n",
       "ABADIANIA                253\n",
       "ABARE                     26\n",
       "ABEL FIGUEIREDO            4\n",
       "ABRE CAMPO                76\n",
       "...                      ...\n",
       "XAPURI                    25\n",
       "XAXIM                    197\n",
       "XEXEU                     38\n",
       "XINGUARA                   2\n",
       "ZE DOCA                   21\n",
       "\n",
       "[1974 rows x 1 columns]"
      ]
     },
     "execution_count": 10,
     "metadata": {},
     "output_type": "execute_result"
    }
   ],
   "source": [
    "acid_munic = acidentes.groupby('municipio').agg(n_acidentes = ('municipio', 'count'))\n",
    "acid_munic"
   ]
  },
  {
   "cell_type": "markdown",
   "metadata": {
    "id": "4zIFbNM1PfJz"
   },
   "source": [
    "  - <div><font color='green'>Agora, para rankear os 5 municípios que mais tiveram acidentes, utilizei a função \"nlargest\" e como parametros o número de itens que quero como retorno e a coluna de filtragem.</font></div>"
   ]
  },
  {
   "cell_type": "code",
   "execution_count": 11,
   "metadata": {
    "colab": {
     "base_uri": "https://localhost:8080/",
     "height": 350
    },
    "id": "4yuMQ0rsPi2W",
    "outputId": "8ff9f682-7a52-4adf-b844-ab8401c78ef8"
   },
   "outputs": [
    {
     "data": {
      "text/plain": [
       "<AxesSubplot:xlabel='municipio'>"
      ]
     },
     "execution_count": 11,
     "metadata": {},
     "output_type": "execute_result"
    },
    {
     "data": {
      "image/png": "[encoded data removed]",
      "text/plain": [
       "<Figure size 432x288 with 1 Axes>"
      ]
     },
     "metadata": {
      "needs_background": "light"
     },
     "output_type": "display_data"
    }
   ],
   "source": [
    "top5 = acid_munic.nlargest(5, \"n_acidentes\")\n",
    "#display(top5)\n",
    "top5.plot(kind='bar')"
   ]
  },
  {
   "cell_type": "markdown",
   "metadata": {
    "id": "mDzVPGk3Pb57"
   },
   "source": [
    "<div><font color='green'>(d) Foi gerada uma filtragem contando quantas linhas correspondem ao estado da Paraíba e que possuem algum número de feridos. Finalizando com um agrupamento da contagem das linhas, ou seja, de quantos acidentes ocorreram com vítimas feridas gravemente em 2019.</font></div>"
   ]
  },
  {
   "cell_type": "code",
   "execution_count": 12,
   "metadata": {
    "colab": {
     "base_uri": "https://localhost:8080/",
     "height": 112
    },
    "id": "2Z7VIvaOWFIc",
    "outputId": "77dbaae1-5f86-494c-81aa-538a422666c9"
   },
   "outputs": [
    {
     "data": {
      "text/html": [
       "<div>\n",
       "<style scoped>\n",
       "    .dataframe tbody tr th:only-of-type {\n",
       "        vertical-align: middle;\n",
       "    }\n",
       "\n",
       "    .dataframe tbody tr th {\n",
       "        vertical-align: top;\n",
       "    }\n",
       "\n",
       "    .dataframe thead th {\n",
       "        text-align: right;\n",
       "    }\n",
       "</style>\n",
       "<table border=\"1\" class=\"dataframe\">\n",
       "  <thead>\n",
       "    <tr style=\"text-align: right;\">\n",
       "      <th></th>\n",
       "      <th>n_acid_feridos_graves</th>\n",
       "    </tr>\n",
       "    <tr>\n",
       "      <th>uf</th>\n",
       "      <th></th>\n",
       "    </tr>\n",
       "  </thead>\n",
       "  <tbody>\n",
       "    <tr>\n",
       "      <th>PB</th>\n",
       "      <td>414</td>\n",
       "    </tr>\n",
       "  </tbody>\n",
       "</table>\n",
       "</div>"
      ],
      "text/plain": [
       "    n_acid_feridos_graves\n",
       "uf                       \n",
       "PB                    414"
      ]
     },
     "execution_count": 12,
     "metadata": {},
     "output_type": "execute_result"
    }
   ],
   "source": [
    "filter_PB = pd.DataFrame(acidentes.loc[(acidentes['data'].dt.to_period('Y')=='2019') & (acidentes['uf'] == 'PB') & (acidentes['feridos_graves'] != 0)])\n",
    "filter_PB.groupby('uf').agg(n_acid_feridos_graves=('feridos_graves', 'count'))"
   ]
  },
  {
   "cell_type": "markdown",
   "metadata": {
    "id": "WPGWpg-VGaAW"
   },
   "source": [
    "#### **3º Tarefa**\n",
    "\n",
    "<div>Para cada indicação abaixo, construa um novo dataframe, salvando-o com a terminação .csv.<br>\n",
    "(a) ranking de acidentes por estado para todos os anos (um só arquivo combinando a informação dos quatro anos);<br>\n",
    "(b) acidentes por dia da semana para todos os anos (um só arquivo combinando a informação dos quatro anos).</div>"
   ]
  },
  {
   "cell_type": "markdown",
   "metadata": {
    "id": "h6FyLc-yldUu"
   },
   "source": [
    "<div><font color='green'>(a) Para rankear a quantidade de acidentes por estado em todos os anos, realizei uma filtragem usando \"groupby\" contando os acidentes por estado sem restrição de ano. Em seguida, transformando-o em um novo DataFrame, adicionei a coluna \"ranking\" ao mesmo, utilizando o método \"rank\" e convertendo todo o resultado para inteiro. Por fim, filtrei os valores em ordem crescente.</font></div>"
   ]
  },
  {
   "cell_type": "code",
   "execution_count": 13,
   "metadata": {
    "colab": {
     "base_uri": "https://localhost:8080/",
     "height": 927
    },
    "id": "FIdpKoOaGmJ7",
    "outputId": "f57e581e-3bcb-484b-cec7-5e1387a91790"
   },
   "outputs": [
    {
     "data": {
      "text/html": [
       "<div>\n",
       "<style scoped>\n",
       "    .dataframe tbody tr th:only-of-type {\n",
       "        vertical-align: middle;\n",
       "    }\n",
       "\n",
       "    .dataframe tbody tr th {\n",
       "        vertical-align: top;\n",
       "    }\n",
       "\n",
       "    .dataframe thead th {\n",
       "        text-align: right;\n",
       "    }\n",
       "</style>\n",
       "<table border=\"1\" class=\"dataframe\">\n",
       "  <thead>\n",
       "    <tr style=\"text-align: right;\">\n",
       "      <th></th>\n",
       "      <th>n_acidentes</th>\n",
       "      <th>ranking</th>\n",
       "    </tr>\n",
       "    <tr>\n",
       "      <th>uf</th>\n",
       "      <th></th>\n",
       "      <th></th>\n",
       "    </tr>\n",
       "  </thead>\n",
       "  <tbody>\n",
       "    <tr>\n",
       "      <th>MG</th>\n",
       "      <td>34483</td>\n",
       "      <td>1</td>\n",
       "    </tr>\n",
       "    <tr>\n",
       "      <th>SC</th>\n",
       "      <td>32034</td>\n",
       "      <td>2</td>\n",
       "    </tr>\n",
       "    <tr>\n",
       "      <th>PR</th>\n",
       "      <td>30185</td>\n",
       "      <td>3</td>\n",
       "    </tr>\n",
       "    <tr>\n",
       "      <th>RJ</th>\n",
       "      <td>17982</td>\n",
       "      <td>4</td>\n",
       "    </tr>\n",
       "    <tr>\n",
       "      <th>RS</th>\n",
       "      <td>17754</td>\n",
       "      <td>5</td>\n",
       "    </tr>\n",
       "    <tr>\n",
       "      <th>SP</th>\n",
       "      <td>17236</td>\n",
       "      <td>6</td>\n",
       "    </tr>\n",
       "    <tr>\n",
       "      <th>BA</th>\n",
       "      <td>13793</td>\n",
       "      <td>7</td>\n",
       "    </tr>\n",
       "    <tr>\n",
       "      <th>GO</th>\n",
       "      <td>13233</td>\n",
       "      <td>8</td>\n",
       "    </tr>\n",
       "    <tr>\n",
       "      <th>PE</th>\n",
       "      <td>10566</td>\n",
       "      <td>9</td>\n",
       "    </tr>\n",
       "    <tr>\n",
       "      <th>ES</th>\n",
       "      <td>10543</td>\n",
       "      <td>10</td>\n",
       "    </tr>\n",
       "    <tr>\n",
       "      <th>MT</th>\n",
       "      <td>9101</td>\n",
       "      <td>11</td>\n",
       "    </tr>\n",
       "    <tr>\n",
       "      <th>CE</th>\n",
       "      <td>6505</td>\n",
       "      <td>12</td>\n",
       "    </tr>\n",
       "    <tr>\n",
       "      <th>MS</th>\n",
       "      <td>6147</td>\n",
       "      <td>13</td>\n",
       "    </tr>\n",
       "    <tr>\n",
       "      <th>RO</th>\n",
       "      <td>6067</td>\n",
       "      <td>14</td>\n",
       "    </tr>\n",
       "    <tr>\n",
       "      <th>PB</th>\n",
       "      <td>5993</td>\n",
       "      <td>15</td>\n",
       "    </tr>\n",
       "    <tr>\n",
       "      <th>RN</th>\n",
       "      <td>5527</td>\n",
       "      <td>16</td>\n",
       "    </tr>\n",
       "    <tr>\n",
       "      <th>PI</th>\n",
       "      <td>5057</td>\n",
       "      <td>17</td>\n",
       "    </tr>\n",
       "    <tr>\n",
       "      <th>MA</th>\n",
       "      <td>4631</td>\n",
       "      <td>18</td>\n",
       "    </tr>\n",
       "    <tr>\n",
       "      <th>DF</th>\n",
       "      <td>3978</td>\n",
       "      <td>19</td>\n",
       "    </tr>\n",
       "    <tr>\n",
       "      <th>PA</th>\n",
       "      <td>3884</td>\n",
       "      <td>20</td>\n",
       "    </tr>\n",
       "    <tr>\n",
       "      <th>AL</th>\n",
       "      <td>2528</td>\n",
       "      <td>21</td>\n",
       "    </tr>\n",
       "    <tr>\n",
       "      <th>SE</th>\n",
       "      <td>2255</td>\n",
       "      <td>22</td>\n",
       "    </tr>\n",
       "    <tr>\n",
       "      <th>TO</th>\n",
       "      <td>2205</td>\n",
       "      <td>23</td>\n",
       "    </tr>\n",
       "    <tr>\n",
       "      <th>AC</th>\n",
       "      <td>1044</td>\n",
       "      <td>24</td>\n",
       "    </tr>\n",
       "    <tr>\n",
       "      <th>RR</th>\n",
       "      <td>991</td>\n",
       "      <td>25</td>\n",
       "    </tr>\n",
       "    <tr>\n",
       "      <th>AP</th>\n",
       "      <td>626</td>\n",
       "      <td>26</td>\n",
       "    </tr>\n",
       "    <tr>\n",
       "      <th>AM</th>\n",
       "      <td>456</td>\n",
       "      <td>27</td>\n",
       "    </tr>\n",
       "  </tbody>\n",
       "</table>\n",
       "</div>"
      ],
      "text/plain": [
       "    n_acidentes  ranking\n",
       "uf                      \n",
       "MG        34483        1\n",
       "SC        32034        2\n",
       "PR        30185        3\n",
       "RJ        17982        4\n",
       "RS        17754        5\n",
       "SP        17236        6\n",
       "BA        13793        7\n",
       "GO        13233        8\n",
       "PE        10566        9\n",
       "ES        10543       10\n",
       "MT         9101       11\n",
       "CE         6505       12\n",
       "MS         6147       13\n",
       "RO         6067       14\n",
       "PB         5993       15\n",
       "RN         5527       16\n",
       "PI         5057       17\n",
       "MA         4631       18\n",
       "DF         3978       19\n",
       "PA         3884       20\n",
       "AL         2528       21\n",
       "SE         2255       22\n",
       "TO         2205       23\n",
       "AC         1044       24\n",
       "RR          991       25\n",
       "AP          626       26\n",
       "AM          456       27"
      ]
     },
     "execution_count": 13,
     "metadata": {},
     "output_type": "execute_result"
    }
   ],
   "source": [
    "acid_total = acidentes.groupby(['uf']).agg(n_acidentes=('uf','count'))\n",
    "rank_acidentes = pd.DataFrame(acid_total)\n",
    "rank_acidentes['ranking'] = pd.DataFrame(rank_acidentes['n_acidentes'].rank(method='max', ascending=False)).astype(int)\n",
    "rank_acidentes.sort_values(['ranking'], inplace=True)\n",
    "rank_acidentes.to_csv('ranking_acidentes.csv', encoding='latin1', sep=';')\n",
    "rank_acidentes"
   ]
  },
  {
   "cell_type": "markdown",
   "metadata": {
    "id": "oN4s7XXomdDm"
   },
   "source": [
    "<div><font color='green'>(b) Para essa questão, utilizei do mesmo método que anteriormente, contando quantas vezes cada dia da semana se repete no DataFrame principal, transformando, em seguida, em um DataFrame.</font></div>"
   ]
  },
  {
   "cell_type": "code",
   "execution_count": 14,
   "metadata": {
    "colab": {
     "base_uri": "https://localhost:8080/",
     "height": 300
    },
    "id": "5Bps63--mhkV",
    "outputId": "b35b1c65-599b-42d1-8409-b35f3a11f6b2"
   },
   "outputs": [
    {
     "data": {
      "text/html": [
       "<div>\n",
       "<style scoped>\n",
       "    .dataframe tbody tr th:only-of-type {\n",
       "        vertical-align: middle;\n",
       "    }\n",
       "\n",
       "    .dataframe tbody tr th {\n",
       "        vertical-align: top;\n",
       "    }\n",
       "\n",
       "    .dataframe thead th {\n",
       "        text-align: right;\n",
       "    }\n",
       "</style>\n",
       "<table border=\"1\" class=\"dataframe\">\n",
       "  <thead>\n",
       "    <tr style=\"text-align: right;\">\n",
       "      <th></th>\n",
       "      <th>n_acidentes</th>\n",
       "    </tr>\n",
       "    <tr>\n",
       "      <th>dia_semana</th>\n",
       "      <th></th>\n",
       "    </tr>\n",
       "  </thead>\n",
       "  <tbody>\n",
       "    <tr>\n",
       "      <th>domingo</th>\n",
       "      <td>43816</td>\n",
       "    </tr>\n",
       "    <tr>\n",
       "      <th>quarta-feira</th>\n",
       "      <td>33347</td>\n",
       "    </tr>\n",
       "    <tr>\n",
       "      <th>quinta-feira</th>\n",
       "      <td>34471</td>\n",
       "    </tr>\n",
       "    <tr>\n",
       "      <th>segunda-feira</th>\n",
       "      <td>35712</td>\n",
       "    </tr>\n",
       "    <tr>\n",
       "      <th>sexta-feira</th>\n",
       "      <td>40945</td>\n",
       "    </tr>\n",
       "    <tr>\n",
       "      <th>sábado</th>\n",
       "      <td>43872</td>\n",
       "    </tr>\n",
       "    <tr>\n",
       "      <th>terça-feira</th>\n",
       "      <td>32641</td>\n",
       "    </tr>\n",
       "  </tbody>\n",
       "</table>\n",
       "</div>"
      ],
      "text/plain": [
       "               n_acidentes\n",
       "dia_semana                \n",
       "domingo              43816\n",
       "quarta-feira         33347\n",
       "quinta-feira         34471\n",
       "segunda-feira        35712\n",
       "sexta-feira          40945\n",
       "sábado               43872\n",
       "terça-feira          32641"
      ]
     },
     "execution_count": 14,
     "metadata": {},
     "output_type": "execute_result"
    }
   ],
   "source": [
    "acid_total_dias = acidentes.groupby(['dia_semana']).agg(n_acidentes=('dia_semana','count'))\n",
    "acid_dias = pd.DataFrame(acid_total_dias)\n",
    "acid_dias.to_csv('qtd_acidentes_por_dia.csv', encoding='latin1', sep=';')\n",
    "acid_dias"
   ]
  },
  {
   "cell_type": "markdown",
   "metadata": {
    "id": "XXC_Y51QGrbS"
   },
   "source": [
    "#### **4º Tarefa**\n",
    "\n",
    "<div>Com relação a ocorrência dos acidentes, responda:<br>\n",
    "(a) qual a causa mais frequente e a mais rara de acidentes registrados nos quatro anos?<br>\n",
    "(b) qual a proporção de pessoas ilesas e de feridos graves por mês em cada um dos anos considerados? (proporção = numero de ilesos ou feridos graves/ número total de pessoas envolvidas no acidente);<br>\n",
    "(c) mostre, reorganizando o conjunto de dados, se a pandemia conseguiu diminuir ou não a incidência de acidentes nas rodovias federais.</div>\n"
   ]
  },
  {
   "cell_type": "markdown",
   "metadata": {
    "id": "scDQ1TMun_2m"
   },
   "source": [
    "<div><font color='green'>(a) Para essa questão, gerei uma filtragem simples contando a quantidade de cada ocorrência, atribui os resultados a duas variáveis e exibi ambos com a função \"display\".</font></div>"
   ]
  },
  {
   "cell_type": "code",
   "execution_count": 15,
   "metadata": {
    "colab": {
     "base_uri": "https://localhost:8080/",
     "height": 176
    },
    "id": "WPebkJJDoLL-",
    "outputId": "251ecf7d-92d4-4239-e8d1-019bc5d01e54"
   },
   "outputs": [
    {
     "data": {
      "text/html": [
       "<div>\n",
       "<style scoped>\n",
       "    .dataframe tbody tr th:only-of-type {\n",
       "        vertical-align: middle;\n",
       "    }\n",
       "\n",
       "    .dataframe tbody tr th {\n",
       "        vertical-align: top;\n",
       "    }\n",
       "\n",
       "    .dataframe thead th {\n",
       "        text-align: right;\n",
       "    }\n",
       "</style>\n",
       "<table border=\"1\" class=\"dataframe\">\n",
       "  <thead>\n",
       "    <tr style=\"text-align: right;\">\n",
       "      <th></th>\n",
       "      <th>causa_acidente</th>\n",
       "      <th>n_ocorrencias</th>\n",
       "    </tr>\n",
       "  </thead>\n",
       "  <tbody>\n",
       "    <tr>\n",
       "      <th>37</th>\n",
       "      <td>Falta de Atenção à Condução</td>\n",
       "      <td>73231</td>\n",
       "    </tr>\n",
       "  </tbody>\n",
       "</table>\n",
       "</div>"
      ],
      "text/plain": [
       "                 causa_acidente  n_ocorrencias\n",
       "37  Falta de Atenção à Condução          73231"
      ]
     },
     "metadata": {},
     "output_type": "display_data"
    },
    {
     "data": {
      "text/html": [
       "<div>\n",
       "<style scoped>\n",
       "    .dataframe tbody tr th:only-of-type {\n",
       "        vertical-align: middle;\n",
       "    }\n",
       "\n",
       "    .dataframe tbody tr th {\n",
       "        vertical-align: top;\n",
       "    }\n",
       "\n",
       "    .dataframe thead th {\n",
       "        text-align: right;\n",
       "    }\n",
       "</style>\n",
       "<table border=\"1\" class=\"dataframe\">\n",
       "  <thead>\n",
       "    <tr style=\"text-align: right;\">\n",
       "      <th></th>\n",
       "      <th>causa_acidente</th>\n",
       "      <th>n_ocorrencias</th>\n",
       "    </tr>\n",
       "  </thead>\n",
       "  <tbody>\n",
       "    <tr>\n",
       "      <th>76</th>\n",
       "      <td>Sinalização encoberta</td>\n",
       "      <td>3</td>\n",
       "    </tr>\n",
       "    <tr>\n",
       "      <th>78</th>\n",
       "      <td>Sistema de drenagem ineficiente</td>\n",
       "      <td>3</td>\n",
       "    </tr>\n",
       "  </tbody>\n",
       "</table>\n",
       "</div>"
      ],
      "text/plain": [
       "                     causa_acidente  n_ocorrencias\n",
       "76            Sinalização encoberta              3\n",
       "78  Sistema de drenagem ineficiente              3"
      ]
     },
     "metadata": {},
     "output_type": "display_data"
    }
   ],
   "source": [
    "causa = acidentes.groupby('causa_acidente').agg(n_ocorrencias=('causa_acidente', 'count'))\n",
    "causa_acid = pd.DataFrame(causa)\n",
    "causa_acid.reset_index(level='causa_acidente', inplace=True)\n",
    "max = causa_acid[causa_acid['n_ocorrencias'] == causa_acid['n_ocorrencias'].max()]\n",
    "min = causa_acid[causa_acid['n_ocorrencias'] == causa_acid['n_ocorrencias'].min()]\n",
    "display(max)\n",
    "display(min)"
   ]
  },
  {
   "cell_type": "markdown",
   "metadata": {
    "id": "zBWOScaFoG20"
   },
   "source": [
    "<div><font color='green'>(b) Foram reeunidos os dados de número de ilesos, feridos e pessoas envolvidas no acidente dentro de um só DataFrame. Adicionei as respectivas colunas de proporção para ilesos e feridos utilizando dos dados coletados anteriormente. Por fim, foi formatado resultado das colunas, já que estavam em float, para porcentagem. </font></div>"
   ]
  },
  {
   "cell_type": "code",
   "execution_count": 16,
   "metadata": {
    "colab": {
     "base_uri": "https://localhost:8080/",
     "height": 394
    },
    "id": "cyWVL6I3oTqs",
    "outputId": "859ddcf8-342e-4bc7-aab7-2b07e987ac7a"
   },
   "outputs": [
    {
     "data": {
      "text/html": [
       "<style type=\"text/css\">\n",
       "</style>\n",
       "<table id=\"T_cb998\">\n",
       "  <thead>\n",
       "    <tr>\n",
       "      <th class=\"blank level0\" >&nbsp;</th>\n",
       "      <th id=\"T_cb998_level0_col0\" class=\"col_heading level0 col0\" >n_pessoas</th>\n",
       "      <th id=\"T_cb998_level0_col1\" class=\"col_heading level0 col1\" >prop_ilesos</th>\n",
       "      <th id=\"T_cb998_level0_col2\" class=\"col_heading level0 col2\" >prop_feridos_graves</th>\n",
       "    </tr>\n",
       "    <tr>\n",
       "      <th class=\"index_name level0\" >data</th>\n",
       "      <th class=\"blank col0\" >&nbsp;</th>\n",
       "      <th class=\"blank col1\" >&nbsp;</th>\n",
       "      <th class=\"blank col2\" >&nbsp;</th>\n",
       "    </tr>\n",
       "  </thead>\n",
       "  <tbody>\n",
       "    <tr>\n",
       "      <th id=\"T_cb998_level0_row0\" class=\"row_heading level0 row0\" >2018-01</th>\n",
       "      <td id=\"T_cb998_row0_col0\" class=\"data row0 col0\" >16665</td>\n",
       "      <td id=\"T_cb998_row0_col1\" class=\"data row0 col1\" >51.33%</td>\n",
       "      <td id=\"T_cb998_row0_col2\" class=\"data row0 col2\" >9.06%</td>\n",
       "    </tr>\n",
       "    <tr>\n",
       "      <th id=\"T_cb998_level0_row1\" class=\"row_heading level0 row1\" >2018-02</th>\n",
       "      <td id=\"T_cb998_row1_col0\" class=\"data row1 col0\" >14047</td>\n",
       "      <td id=\"T_cb998_row1_col1\" class=\"data row1 col1\" >49.83%</td>\n",
       "      <td id=\"T_cb998_row1_col2\" class=\"data row1 col2\" >9.22%</td>\n",
       "    </tr>\n",
       "    <tr>\n",
       "      <th id=\"T_cb998_level0_row2\" class=\"row_heading level0 row2\" >2018-03</th>\n",
       "      <td id=\"T_cb998_row2_col0\" class=\"data row2 col0\" >15110</td>\n",
       "      <td id=\"T_cb998_row2_col1\" class=\"data row2 col1\" >48.15%</td>\n",
       "      <td id=\"T_cb998_row2_col2\" class=\"data row2 col2\" >10.19%</td>\n",
       "    </tr>\n",
       "    <tr>\n",
       "      <th id=\"T_cb998_level0_row3\" class=\"row_heading level0 row3\" >2018-04</th>\n",
       "      <td id=\"T_cb998_row3_col0\" class=\"data row3 col0\" >13230</td>\n",
       "      <td id=\"T_cb998_row3_col1\" class=\"data row3 col1\" >43.02%</td>\n",
       "      <td id=\"T_cb998_row3_col2\" class=\"data row3 col2\" >11.28%</td>\n",
       "    </tr>\n",
       "    <tr>\n",
       "      <th id=\"T_cb998_level0_row4\" class=\"row_heading level0 row4\" >2018-05</th>\n",
       "      <td id=\"T_cb998_row4_col0\" class=\"data row4 col0\" >11489</td>\n",
       "      <td id=\"T_cb998_row4_col1\" class=\"data row4 col1\" >42.22%</td>\n",
       "      <td id=\"T_cb998_row4_col2\" class=\"data row4 col2\" >11.45%</td>\n",
       "    </tr>\n",
       "    <tr>\n",
       "      <th id=\"T_cb998_level0_row5\" class=\"row_heading level0 row5\" >2018-06</th>\n",
       "      <td id=\"T_cb998_row5_col0\" class=\"data row5 col0\" >12870</td>\n",
       "      <td id=\"T_cb998_row5_col1\" class=\"data row5 col1\" >42.51%</td>\n",
       "      <td id=\"T_cb998_row5_col2\" class=\"data row5 col2\" >11.64%</td>\n",
       "    </tr>\n",
       "    <tr>\n",
       "      <th id=\"T_cb998_level0_row6\" class=\"row_heading level0 row6\" >2018-07</th>\n",
       "      <td id=\"T_cb998_row6_col0\" class=\"data row6 col0\" >13618</td>\n",
       "      <td id=\"T_cb998_row6_col1\" class=\"data row6 col1\" >43.75%</td>\n",
       "      <td id=\"T_cb998_row6_col2\" class=\"data row6 col2\" >11.03%</td>\n",
       "    </tr>\n",
       "    <tr>\n",
       "      <th id=\"T_cb998_level0_row7\" class=\"row_heading level0 row7\" >2018-08</th>\n",
       "      <td id=\"T_cb998_row7_col0\" class=\"data row7 col0\" >12776</td>\n",
       "      <td id=\"T_cb998_row7_col1\" class=\"data row7 col1\" >42.71%</td>\n",
       "      <td id=\"T_cb998_row7_col2\" class=\"data row7 col2\" >10.64%</td>\n",
       "    </tr>\n",
       "    <tr>\n",
       "      <th id=\"T_cb998_level0_row8\" class=\"row_heading level0 row8\" >2018-09</th>\n",
       "      <td id=\"T_cb998_row8_col0\" class=\"data row8 col0\" >13027</td>\n",
       "      <td id=\"T_cb998_row8_col1\" class=\"data row8 col1\" >42.07%</td>\n",
       "      <td id=\"T_cb998_row8_col2\" class=\"data row8 col2\" >11.55%</td>\n",
       "    </tr>\n",
       "    <tr>\n",
       "      <th id=\"T_cb998_level0_row9\" class=\"row_heading level0 row9\" >2018-10</th>\n",
       "      <td id=\"T_cb998_row9_col0\" class=\"data row9 col0\" >12890</td>\n",
       "      <td id=\"T_cb998_row9_col1\" class=\"data row9 col1\" >43.02%</td>\n",
       "      <td id=\"T_cb998_row9_col2\" class=\"data row9 col2\" >11.26%</td>\n",
       "    </tr>\n",
       "  </tbody>\n",
       "</table>\n"
      ],
      "text/plain": [
       "<pandas.io.formats.style.Styler at 0x27d8f792920>"
      ]
     },
     "execution_count": 16,
     "metadata": {},
     "output_type": "execute_result"
    }
   ],
   "source": [
    "proporcao = acidentes.groupby(acidentes['data'].dt.to_period('M')).agg(n_acidentes=('id', 'count'),n_ilesos=('ilesos', 'sum'),n_feridos_graves=('feridos_graves', 'sum'), n_pessoas=('pessoas', 'sum'))\n",
    "proporcao['prop_ilesos'] = proporcao['n_ilesos']/proporcao['n_pessoas']\n",
    "proporcao['prop_feridos_graves'] = proporcao['n_feridos_graves']/proporcao['n_pessoas']\n",
    "prop = pd.DataFrame(proporcao)\n",
    "#exibindo apenas os 10 primeios itens para melhor visualização\n",
    "(prop.loc[:,['n_pessoas','prop_ilesos', 'prop_feridos_graves']].head(10)).style.format({'prop_ilesos':'{:,.2%}'.format, 'prop_feridos_graves':'{:,.2%}'.format})"
   ]
  },
  {
   "cell_type": "markdown",
   "metadata": {
    "id": "2s-6dbzGoHQa"
   },
   "source": [
    "<div><font color='green'>(c) Já que a pandemia se inciou, no Brasil, pós carnaval, mais precisamente no mês de março, decidi reunir o número de acidente do mês de março dos anos analisados neste projeto. Para isso, foi utilizada a função \"loc\", onde se obteve o intervalo do mês de março de cada ano. Após isso foi realizado o merge das filtragens com base no DataFrame de proporção utilizado na alternativa anterior. Por fim, foi gerado um gráfico de barras exibindo a diferença de número de acidentes de cada ano no mês de março antes, durante e pós pandemia.<br><br>\n",
    "É possível assim, concluir, que o lockdown, consequente da pandemia da Covid-19, gerou uma diminuição significativa nos acidentes nas rodovias federais brasileiras.</font></div>"
   ]
  },
  {
   "cell_type": "code",
   "execution_count": 17,
   "metadata": {
    "colab": {
     "base_uri": "https://localhost:8080/",
     "height": 328
    },
    "id": "ZDjNxWw6G1re",
    "outputId": "82b6e591-98a4-4fab-839c-94cbe50e3424"
   },
   "outputs": [
    {
     "data": {
      "text/plain": [
       "<AxesSubplot:title={'center':'acidentes por ano no mês de março - antes x durante pandemia'}, xlabel='ano'>"
      ]
     },
     "execution_count": 17,
     "metadata": {},
     "output_type": "execute_result"
    },
    {
     "data": {
      "image/png": "[encoded data removed]",
      "text/plain": [
       "<Figure size 432x288 with 1 Axes>"
      ]
     },
     "metadata": {
      "needs_background": "light"
     },
     "output_type": "display_data"
    }
   ],
   "source": [
    "import math\n",
    "x = prop.reset_index()\n",
    "n2020 = x.loc[x['data'].between('2020-03', '2020-03')]\n",
    "n2018 = x.loc[x['data'].between('2018-03', '2018-03')]\n",
    "n2019 = x.loc[x['data'].between('2019-03', '2019-03')]\n",
    "n2021 = x.loc[x['data'].between('2021-03', '2021-03')]\n",
    "acid_anos_marco = pd.merge(n2018.merge(n2019, how=\"outer\"), n2020.merge(n2021, how=\"outer\"), how=\"outer\")\n",
    "acid_anos_marco['n_acidentes'] = acid_anos_marco['n_acidentes'].astype(int)\n",
    "acid_anos_marco['ano'] = acid_anos_marco['data'].dt.year\n",
    "plot_base = acid_anos_marco.loc[:,['ano', 'n_acidentes']]\n",
    "plot_base.set_index('ano').plot(use_index=True, kind='bar', title='acidentes por ano no mês de março - antes x durante pandemia')\n"
   ]
  }
 ],
 "metadata": {
  "colab": {
   "collapsed_sections": [],
   "name": "Projeto-Acidentes-PRF_vFinal.ipynb",
   "provenance": []
  },
  "kernelspec": {
   "display_name": "Python 3 (ipykernel)",
   "language": "python",
   "name": "python3"
  },
  "language_info": {
   "codemirror_mode": {
    "name": "ipython",
    "version": 3
   },
   "file_extension": ".py",
   "mimetype": "text/x-python",
   "name": "python",
   "nbconvert_exporter": "python",
   "pygments_lexer": "ipython3",
   "version": "3.10.4"
  }
 },
 "nbformat": 4,
 "nbformat_minor": 1
}
